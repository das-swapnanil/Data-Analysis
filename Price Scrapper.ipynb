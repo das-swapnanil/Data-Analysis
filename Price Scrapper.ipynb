{
 "cells": [
  {
   "cell_type": "code",
   "execution_count": 1,
   "id": "5a370a28",
   "metadata": {},
   "outputs": [],
   "source": [
    "#importing the libraries\n",
    "import smtplib\n",
    "import pandas as pd\n",
    "import requests\n",
    "from bs4 import BeautifulSoup\n",
    "from price_parser import Price"
   ]
  },
  {
   "cell_type": "code",
   "execution_count": 2,
   "id": "ffdcb4c9",
   "metadata": {},
   "outputs": [],
   "source": [
    "#importing the csv files\n",
    "PRODUCT_URL_CSV = \"/Users/swapnanildas/Downloads/Product.csv\"\n",
    "SAVE_TO_CSV = True\n",
    "PRICES_CSV = \"/Users/swapnanildas/Downloads/Prices.csv\"\n",
    "SEND_MAIL = True"
   ]
  },
  {
   "cell_type": "code",
   "execution_count": 3,
   "id": "d1519c56",
   "metadata": {},
   "outputs": [],
   "source": [
    "#reading the csv files\n",
    "def get_urls(csv_file):\n",
    "    df = pd.read_csv(csv_file)\n",
    "    return df"
   ]
  },
  {
   "cell_type": "code",
   "execution_count": 4,
   "id": "9cf096ef",
   "metadata": {},
   "outputs": [],
   "source": [
    "#scrapping the prices\n",
    "def process_products(df):\n",
    "    updated_products = []\n",
    "    for product in df.to_dict(\"records\"):\n",
    "        html = get_response(product[\"url\"])\n",
    "        product[\"price\"] = get_price(html)\n",
    "        product[\"alert\"] = product[\"price\"] < product[\"alert_price\"]\n",
    "        updated_products.append(product)\n",
    "    return pd.DataFrame(updated_products)"
   ]
  },
  {
   "cell_type": "code",
   "execution_count": 5,
   "id": "b31e3ead",
   "metadata": {},
   "outputs": [],
   "source": [
    "#sxtracting the HTML from response for each URL\n",
    "def get_response(url):\n",
    "    response = requests.get(url)\n",
    "    return response.text"
   ]
  },
  {
   "cell_type": "code",
   "execution_count": 6,
   "id": "12c3282e",
   "metadata": {},
   "outputs": [],
   "source": [
    "#extracting the price from the given HTML\n",
    "def get_price(html):\n",
    "    soup = BeautifulSoup(html, \"lxml\")\n",
    "    el = soup.select_one(\".price_color\")\n",
    "    price = Price.fromstring(el.text)\n",
    "    return price.amount_float"
   ]
  },
  {
   "cell_type": "code",
   "execution_count": 7,
   "id": "6479f06c",
   "metadata": {},
   "outputs": [],
   "source": [
    "#geting subject and body\n",
    "def get_mail(df):\n",
    "    subject = \"Price Drop Alert\"\n",
    "    body = df[df[\"alert\"]].to_string()\n",
    "    subject_and_message = f\"Subject:{subject}\\n\\n{body}\"\n",
    "    return subject_and_message"
   ]
  },
  {
   "cell_type": "code",
   "execution_count": 8,
   "id": "8fdcb47a",
   "metadata": {},
   "outputs": [],
   "source": [
    "#sending out email alerts\n",
    "def send_mail(df):\n",
    "    message_text = get_mail(df)\n",
    "    with smtplib.SMTP(\"smtp.server.address\", 587) as smtp:\n",
    "        smtp.starttls()\n",
    "        smtp.login(mail_user, mail_pass)\n",
    "        smtp.sendmail(mail_user, mail_to, message_text)"
   ]
  },
  {
   "cell_type": "code",
   "execution_count": 17,
   "id": "fc6d7f39",
   "metadata": {},
   "outputs": [],
   "source": [
    "#main fuction to execute the entire system\n",
    "def main():\n",
    "    df = get_urls(PRODUCT_URL_CSV)\n",
    "    df_updated = process_products(df)\n",
    "    if SAVE_TO_CSV:\n",
    "        df_updated.to_csv(PRICES_CSV, index=False, mode=\"a\")\n",
    "    if SEND_MAIL:\n",
    "        send_mail(df_updated)"
   ]
  }
 ],
 "metadata": {
  "kernelspec": {
   "display_name": "Python 3 (ipykernel)",
   "language": "python",
   "name": "python3"
  },
  "language_info": {
   "codemirror_mode": {
    "name": "ipython",
    "version": 3
   },
   "file_extension": ".py",
   "mimetype": "text/x-python",
   "name": "python",
   "nbconvert_exporter": "python",
   "pygments_lexer": "ipython3",
   "version": "3.9.6"
  }
 },
 "nbformat": 4,
 "nbformat_minor": 5
}
